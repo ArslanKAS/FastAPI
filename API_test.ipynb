{
 "cells": [
  {
   "cell_type": "code",
   "execution_count": 2,
   "metadata": {},
   "outputs": [
    {
     "name": "stdout",
     "output_type": "stream",
     "text": [
      "Result for Yes: {'1': 'Muhammad Ali'}\n",
      "Result for No: {'2': 'Mike Tyson'}\n",
      "Result for Other: {'11': 'We only know Top 10 boxers'}\n"
     ]
    }
   ],
   "source": [
    "import requests\n",
    "\n",
    "def boxer(number):\n",
    "    # Specify the FastAPI server URL\n",
    "    api_url = \"http://127.0.0.1:8000\"\n",
    "    \n",
    "    # Define the endpoint URL\n",
    "    endpoint_url = f\"{api_url}/get_famous_boxer/{number}\"\n",
    "\n",
    "    # Make a GET request to the endpoint\n",
    "    response = requests.get(endpoint_url)\n",
    "    \n",
    "    # Return the JSON response\n",
    "    return response.json()\n",
    "\n",
    "# Get Top 10 Boxers names:\n",
    "result_1 = boxer(1)\n",
    "result_2 = boxer(2)\n",
    "result_3 = boxer(11)\n",
    "\n",
    "print(\"Result for Yes:\", result_1)\n",
    "print(\"Result for No:\", result_2)\n",
    "print(\"Result for Other:\", result_3)\n"
   ]
  }
 ],
 "metadata": {
  "kernelspec": {
   "display_name": "fastapi_env",
   "language": "python",
   "name": "python3"
  },
  "language_info": {
   "codemirror_mode": {
    "name": "ipython",
    "version": 3
   },
   "file_extension": ".py",
   "mimetype": "text/x-python",
   "name": "python",
   "nbconvert_exporter": "python",
   "pygments_lexer": "ipython3",
   "version": "3.11.3"
  }
 },
 "nbformat": 4,
 "nbformat_minor": 2
}
